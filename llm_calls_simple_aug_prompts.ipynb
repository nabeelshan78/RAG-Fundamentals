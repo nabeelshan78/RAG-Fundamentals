{
 "cells": [
  {
   "cell_type": "markdown",
   "id": "9b62af31-cded-4cec-bfed-ab5fa83b3446",
   "metadata": {},
   "source": [
    "# LLM Calls and Crafting Simple Augmented Prompts"
   ]
  },
  {
   "cell_type": "code",
   "execution_count": 1,
   "id": "a6470cbe-b764-4abc-b1e0-72b822df08d4",
   "metadata": {
    "tags": []
   },
   "outputs": [],
   "source": [
    "from utils import (\n",
    "    generate_with_single_input, \n",
    "    generate_with_multiple_input\n",
    ")"
   ]
  },
  {
   "cell_type": "markdown",
   "id": "c9efc25a-c661-4b5a-a6aa-b13ba09af9ee",
   "metadata": {},
   "source": [
    "## Understanding the functions to call LLMs"
   ]
  },
  {
   "cell_type": "code",
   "execution_count": 6,
   "id": "1e6781d1-7c10-4314-8a51-06d40fed3649",
   "metadata": {
    "tags": []
   },
   "outputs": [
    {
     "name": "stdout",
     "output_type": "stream",
     "text": [
      "Role: assistant\n",
      "Content: The capital of France is Paris.\n"
     ]
    }
   ],
   "source": [
    "output = generate_with_single_input(\n",
    "    prompt=\"What is the capital of France?\"\n",
    ")\n",
    "\n",
    "print(\"Role:\", output['role'])\n",
    "print(\"Content:\", output['content'])"
   ]
  },
  {
   "cell_type": "markdown",
   "id": "2322cef0-efe4-4f26-98b7-a5a946988d04",
   "metadata": {},
   "source": [
    "### `generate_with_multiple_input`\n",
    "\n",
    "This function is designed to handle multiple input messages in a conversational context. The input format is a dictionary with two keys:\n",
    "\n",
    "1. 'role' - the role that the message is being passed (usually assistant, system or user)\n",
    "2. 'content' - the prompt"
   ]
  },
  {
   "cell_type": "code",
   "execution_count": 7,
   "id": "daf828e4-3582-487f-acd6-0ca784acde6e",
   "metadata": {
    "tags": []
   },
   "outputs": [
    {
     "name": "stdout",
     "output_type": "stream",
     "text": [
      "Role: assistant\n",
      "Content: The captain of the French team that won the 2018 FIFA World Cup was Hugo Lloris.\n"
     ]
    }
   ],
   "source": [
    "messages = [\n",
    "    {'role': 'user', 'content': 'Hello, who won the FIFA world cup in 2018?'},\n",
    "    {'role': 'assistant', 'content': 'France won the 2018 FIFA World Cup.'},\n",
    "    {'role': 'user', 'content': 'Who was the captain?'}\n",
    "]\n",
    "\n",
    "output = generate_with_multiple_input(\n",
    "    messages=messages,\n",
    "    max_tokens=100\n",
    ")\n",
    "\n",
    "print(\"Role:\", output['role'])\n",
    "print(\"Content:\", output['content'])"
   ]
  },
  {
   "cell_type": "markdown",
   "id": "b1b569d3-d463-4efc-b7cc-6380cbcebbec",
   "metadata": {},
   "source": [
    "### Integration with OpenAI library"
   ]
  },
  {
   "cell_type": "code",
   "execution_count": 8,
   "id": "bf0e4581-15a6-47ca-b708-a55a167658ff",
   "metadata": {
    "tags": []
   },
   "outputs": [],
   "source": [
    "from openai import OpenAI, DefaultHttpxClient\n",
    "import httpx"
   ]
  },
  {
   "cell_type": "code",
   "execution_count": 9,
   "id": "0490fcf3-6bc2-4055-a198-1b69a419bcba",
   "metadata": {
    "tags": []
   },
   "outputs": [],
   "source": [
    "base_url = \"http://proxy.dlai.link/coursera_proxy/together/\"\n",
    "transport = httpx.HTTPTransport(local_address=\"0.0.0.0\", verify=False)\n",
    "http_client = DefaultHttpxClient(transport=transport)\n",
    "\n",
    "client = OpenAI(\n",
    "    api_key = '',\n",
    "    base_url=base_url, \n",
    "   http_client=http_client,\n",
    ")"
   ]
  },
  {
   "cell_type": "code",
   "execution_count": 10,
   "id": "c4946aab-8f5a-4283-b3a2-d36729f45229",
   "metadata": {
    "tags": []
   },
   "outputs": [],
   "source": [
    "messages = [\n",
    "    {'role': 'user', 'content': 'Hello, who won the FIFA world cup in 2018?'},\n",
    "    {'role': 'assistant', 'content': 'France won the 2018 FIFA World Cup.'},\n",
    "    {'role': 'user', 'content': 'Who was the captain?'}\n",
    "]"
   ]
  },
  {
   "cell_type": "code",
   "execution_count": 11,
   "id": "8e18e364-a6a9-4ee1-b9ff-42757f519525",
   "metadata": {
    "tags": []
   },
   "outputs": [],
   "source": [
    "response = client.chat.completions.create(messages=messages, model=\"meta-llama/Llama-3.2-3B-Instruct-Turbo\")"
   ]
  },
  {
   "cell_type": "code",
   "execution_count": 12,
   "id": "5e408d06-7596-420c-93ae-46d41613adc1",
   "metadata": {
    "tags": []
   },
   "outputs": [
    {
     "name": "stdout",
     "output_type": "stream",
     "text": [
      "ChatCompletion(id='o8pR91Y-57nCBj-975aec617d03cf16', choices=[Choice(finish_reason='stop', index=0, logprobs=None, message=ChatCompletionMessage(content='The captain of the French team that won the 2018 FIFA World Cup was Hugo Lloris.', refusal=None, role='assistant', annotations=None, audio=None, function_call=None, tool_calls=[]), seed=5468570689635906000)], created=1756290939, model='meta-llama/Llama-3.2-3B-Instruct-Turbo', object='chat.completion', service_tier=None, system_fingerprint=None, usage=CompletionUsage(completion_tokens=22, prompt_tokens=73, total_tokens=95, completion_tokens_details=None, prompt_tokens_details=None, cached_tokens=0), prompt=[])\n"
     ]
    }
   ],
   "source": [
    "print(response)"
   ]
  },
  {
   "cell_type": "code",
   "execution_count": 13,
   "id": "0b41f719-7f04-428b-95f2-fa237e794a06",
   "metadata": {
    "tags": []
   },
   "outputs": [
    {
     "name": "stdout",
     "output_type": "stream",
     "text": [
      "The captain of the French team that won the 2018 FIFA World Cup was Hugo Lloris.\n"
     ]
    }
   ],
   "source": [
    "print(response.choices[0].message.content)"
   ]
  },
  {
   "cell_type": "markdown",
   "id": "5f885a10-a6cd-45b2-825e-db48c888dfa4",
   "metadata": {},
   "source": [
    "## Integrating Data into an LLM Prompt"
   ]
  },
  {
   "cell_type": "code",
   "execution_count": 21,
   "id": "3fec3dff-2460-4e55-bb56-086daf797b9b",
   "metadata": {
    "tags": []
   },
   "outputs": [],
   "source": [
    "house_data = [\n",
    "    {\n",
    "        \"address\": \"123 Maple Street\",\n",
    "        \"city\": \"Springfield\",\n",
    "        \"state\": \"IL\",\n",
    "        \"zip\": \"62701\",\n",
    "        \"bedrooms\": 3,\n",
    "        \"bathrooms\": 2,\n",
    "        \"square_feet\": 1500,\n",
    "        \"price\": 230000,\n",
    "        \"year_built\": 1998\n",
    "    },\n",
    "    {\n",
    "        \"address\": \"456 Elm Avenue\",\n",
    "        \"city\": \"Shelbyville\",\n",
    "        \"state\": \"TN\",\n",
    "        \"zip\": \"37160\",\n",
    "        \"bedrooms\": 4,\n",
    "        \"bathrooms\": 3,\n",
    "        \"square_feet\": 2500,\n",
    "        \"price\": 320000,\n",
    "        \"year_built\": 2005\n",
    "    }\n",
    "]"
   ]
  },
  {
   "cell_type": "markdown",
   "id": "b5d13a35-16ce-44f8-895e-4f15b6afdc2c",
   "metadata": {},
   "source": [
    "### Creating the Prompt"
   ]
  },
  {
   "cell_type": "code",
   "execution_count": 22,
   "id": "afe4a1bd-2607-48c9-9ee2-78b2d36eafe2",
   "metadata": {
    "tags": []
   },
   "outputs": [],
   "source": [
    "# creating a layout for the houses\n",
    "\n",
    "def house_info_layout(houses):\n",
    "    layout = ''\n",
    "    for house in houses:\n",
    "        layout += (f\"House located at {house['address']}, {house['city']}, {house['state']} {house['zip']} with \"\n",
    "            f\"{house['bedrooms']} bedrooms, {house['bathrooms']} bathrooms, \"\n",
    "            f\"{house['square_feet']} sq ft area, priced at ${house['price']}, \"\n",
    "            f\"built in {house['year_built']}.\\n\")\n",
    "    return layout"
   ]
  },
  {
   "cell_type": "code",
   "execution_count": 23,
   "id": "64543da5-8bd1-4e86-8234-3e57ea013550",
   "metadata": {
    "tags": []
   },
   "outputs": [
    {
     "name": "stdout",
     "output_type": "stream",
     "text": [
      "House located at 123 Maple Street, Springfield, IL 62701 with 3 bedrooms, 2 bathrooms, 1500 sq ft area, priced at $230000, built in 1998.\n",
      "House located at 456 Elm Avenue, Shelbyville, TN 37160 with 4 bedrooms, 3 bathrooms, 2500 sq ft area, priced at $320000, built in 2005.\n",
      "\n"
     ]
    }
   ],
   "source": [
    "print(house_info_layout(house_data))"
   ]
  },
  {
   "cell_type": "markdown",
   "id": "382a8959-67ad-4f0c-9b6b-6b70127215d8",
   "metadata": {},
   "source": [
    "A function that generates the prompt to be passed to the Language Learning Model (LLM). The function will take a user-provided query and the available housing data as inputs to effectively address the user's query."
   ]
  },
  {
   "cell_type": "code",
   "execution_count": 30,
   "id": "c0fa9095-62cf-4623-8202-1e542d58cedf",
   "metadata": {
    "tags": []
   },
   "outputs": [],
   "source": [
    "def generate_prompt(query, houses):\n",
    "    houses_layout = house_info_layout(houses)\n",
    "    \n",
    "    PROMPT = f\"\"\"\n",
    "Use the following houses information to answer users queries.\n",
    "{houses_layout}\n",
    "Query: {query}    \n",
    "             \"\"\"\n",
    "    return PROMPT"
   ]
  },
  {
   "cell_type": "code",
   "execution_count": 31,
   "id": "e79c82f4-2b49-41fb-8cc8-4df01b1910a1",
   "metadata": {
    "tags": []
   },
   "outputs": [
    {
     "name": "stdout",
     "output_type": "stream",
     "text": [
      "\n",
      "Use the following houses information to answer users queries.\n",
      "House located at 123 Maple Street, Springfield, IL 62701 with 3 bedrooms, 2 bathrooms, 1500 sq ft area, priced at $230000, built in 1998.\n",
      "House located at 456 Elm Avenue, Shelbyville, TN 37160 with 4 bedrooms, 3 bathrooms, 2500 sq ft area, priced at $320000, built in 2005.\n",
      "\n",
      "Query: What is the most expensive house?    \n",
      "             \n"
     ]
    }
   ],
   "source": [
    "print(generate_prompt(\"What is the most expensive house?\", houses=house_data))"
   ]
  },
  {
   "cell_type": "code",
   "execution_count": 32,
   "id": "97c547c0-58e9-49a8-8f67-55851140284e",
   "metadata": {
    "tags": []
   },
   "outputs": [],
   "source": [
    "query = \"What is the most expensive house? And the bigger one?\"\n",
    "query_without_house_info = generate_with_single_input(prompt=query, role='user')\n",
    "enhanced_query = generate_prompt(query, houses=house_data)\n",
    "query_with_house_info = generate_with_single_input(prompt=enhanced_query, role='assistant')"
   ]
  },
  {
   "cell_type": "code",
   "execution_count": 33,
   "id": "ab026307-4732-42e8-8042-614214d5a3db",
   "metadata": {
    "tags": []
   },
   "outputs": [
    {
     "name": "stdout",
     "output_type": "stream",
     "text": [
      "The most expensive house and the largest house in the world can vary depending on the source and the criteria used to measure their value and size. However, here are some of the most notable examples:\n",
      "\n",
      "**Most Expensive House:**\n",
      "\n",
      "The most expensive house in the world is the Antilia building, which is the private residence of Indian business magnate Mukesh Ambani and his family. Located in Mumbai, India, Antilia is valued at over $1 billion USD.\n",
      "\n",
      "Antilia is a 27-story building that was completed in 2010 and features:\n",
      "\n",
      "* 168 car garage\n",
      "* 50-seat movie theater\n",
      "* 3 helipads\n",
      "* Health spa\n",
      "* Fitness center\n",
      "* Swimming pool\n",
      "* Staff of 600 people to maintain the property\n",
      "\n",
      "**Largest House:**\n",
      "\n",
      "The largest house in the world is the Biltmore Estate, which is located in Asheville, North Carolina, USA. It was built in the late 1800s for George Vanderbilt II and covers an area of over 175,000 square feet.\n",
      "\n",
      "The Biltmore Estate features:\n",
      "\n",
      "* 250 rooms, including 35 bedrooms, 43 bathrooms, and 65 fireplaces\n",
      "* 65,000-square-foot winery\n",
      "* 55-acre garden\n",
      "* 8 acres of forest\n",
      "* 2 miles of walking trails\n",
      "* Private movie theater\n",
      "* Swimming pool\n",
      "* Tennis courts\n",
      "* Stables\n",
      "\n",
      "The Biltmore Estate is a grand chateau-style mansion that was designed by prominent architects Richard Morris Hunt and Frederick Law Olmsted. It is now a popular tourist destination and is operated by the Biltmore Company.\n",
      "\n",
      "Note: There are other large and expensive houses around the world, but these two are generally considered to be among the most notable examples.\n"
     ]
    }
   ],
   "source": [
    "# Without house info\n",
    "print(query_without_house_info['content'])"
   ]
  },
  {
   "cell_type": "code",
   "execution_count": 35,
   "id": "0dae5b65-80b4-46ba-bcfc-af037fc78a74",
   "metadata": {
    "tags": []
   },
   "outputs": [
    {
     "name": "stdout",
     "output_type": "stream",
     "text": [
      "The most expensive house is the one located at 456 Elm Avenue, Shelbyville, TN 37160, priced at $320,000.\n",
      "\n",
      "The bigger house is the one located at 456 Elm Avenue, Shelbyville, TN 37160, with 4 bedrooms, 3 bathrooms, and 2500 sq ft area.\n"
     ]
    }
   ],
   "source": [
    "# With house info\n",
    "print(query_with_house_info['content'])"
   ]
  },
  {
   "cell_type": "code",
   "execution_count": null,
   "id": "7bca17b2-c15e-4873-8bbb-c3ffdd47e28f",
   "metadata": {},
   "outputs": [],
   "source": []
  },
  {
   "cell_type": "code",
   "execution_count": null,
   "id": "1ae5bd4e-8743-4142-9f9e-3b8c36d30d7d",
   "metadata": {},
   "outputs": [],
   "source": []
  }
 ],
 "metadata": {
  "kernelspec": {
   "display_name": "Python 3 (ipykernel)",
   "language": "python",
   "name": "python3"
  },
  "language_info": {
   "codemirror_mode": {
    "name": "ipython",
    "version": 3
   },
   "file_extension": ".py",
   "mimetype": "text/x-python",
   "name": "python",
   "nbconvert_exporter": "python",
   "pygments_lexer": "ipython3",
   "version": "3.12.11"
  }
 },
 "nbformat": 4,
 "nbformat_minor": 5
}
