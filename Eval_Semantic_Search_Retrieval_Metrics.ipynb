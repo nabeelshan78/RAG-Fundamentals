{
 "cells": [
  {
   "cell_type": "markdown",
   "id": "4907a93a-28ba-4de7-8179-f88d2a6a3b48",
   "metadata": {},
   "source": [
    "# Evaluating a Semantic Search Retriever\n",
    "This notebook demonstrates how to build and evaluate a simple semantic search system using the 20 Newsgroups dataset. We'll use a sentence-transformer model to create vector embeddings and then measure the retrieval quality using Precision@K and Recall@K.\n",
    "\n",
    "- Vectorize Documents: Convert text from the 20 Newsgroups dataset into dense vector embeddings.\n",
    "- Implement Semantic Search: Use cosine similarity to find the most relevant documents for a given query.\n",
    "- Calculate Metrics: Compute precision and recall for a set of test queries to evaluate the retriever's performance."
   ]
  },
  {
   "cell_type": "code",
   "execution_count": 9,
   "id": "59ac0621-1407-4486-8ec6-367b5c76de4c",
   "metadata": {
    "tags": []
   },
   "outputs": [],
   "source": [
    "import pandas as pd\n",
    "from sentence_transformers import SentenceTransformer\n",
    "from sklearn.datasets import fetch_20newsgroups\n",
    "import numpy as np\n",
    "import matplotlib.pyplot as plt\n",
    "import joblib\n",
    "import os"
   ]
  },
  {
   "cell_type": "markdown",
   "id": "48feeb65-bd84-45fe-b8bf-a16fe6e34867",
   "metadata": {},
   "source": [
    "### Dataset"
   ]
  },
  {
   "cell_type": "code",
   "execution_count": 10,
   "id": "2e246e6c-231f-4797-a5d1-c11095b74e14",
   "metadata": {
    "tags": []
   },
   "outputs": [],
   "source": [
    "# Load the 20 Newsgroups dataset\n",
    "newsgroups_train = fetch_20newsgroups(subset='train', shuffle=True, random_state=42)"
   ]
  },
  {
   "cell_type": "code",
   "execution_count": 11,
   "id": "35dacfa3-fed4-4268-b16b-db525e2727d5",
   "metadata": {
    "tags": []
   },
   "outputs": [
    {
     "data": {
      "text/html": [
       "<div>\n",
       "<style scoped>\n",
       "    .dataframe tbody tr th:only-of-type {\n",
       "        vertical-align: middle;\n",
       "    }\n",
       "\n",
       "    .dataframe tbody tr th {\n",
       "        vertical-align: top;\n",
       "    }\n",
       "\n",
       "    .dataframe thead th {\n",
       "        text-align: right;\n",
       "    }\n",
       "</style>\n",
       "<table border=\"1\" class=\"dataframe\">\n",
       "  <thead>\n",
       "    <tr style=\"text-align: right;\">\n",
       "      <th></th>\n",
       "      <th>text</th>\n",
       "      <th>category</th>\n",
       "    </tr>\n",
       "  </thead>\n",
       "  <tbody>\n",
       "    <tr>\n",
       "      <th>0</th>\n",
       "      <td>From: lerxst@wam.umd.edu (where's my thing)\\nS...</td>\n",
       "      <td>7</td>\n",
       "    </tr>\n",
       "    <tr>\n",
       "      <th>1</th>\n",
       "      <td>From: guykuo@carson.u.washington.edu (Guy Kuo)...</td>\n",
       "      <td>4</td>\n",
       "    </tr>\n",
       "    <tr>\n",
       "      <th>2</th>\n",
       "      <td>From: twillis@ec.ecn.purdue.edu (Thomas E Will...</td>\n",
       "      <td>4</td>\n",
       "    </tr>\n",
       "    <tr>\n",
       "      <th>3</th>\n",
       "      <td>From: jgreen@amber (Joe Green)\\nSubject: Re: W...</td>\n",
       "      <td>1</td>\n",
       "    </tr>\n",
       "    <tr>\n",
       "      <th>4</th>\n",
       "      <td>From: jcm@head-cfa.harvard.edu (Jonathan McDow...</td>\n",
       "      <td>14</td>\n",
       "    </tr>\n",
       "  </tbody>\n",
       "</table>\n",
       "</div>"
      ],
      "text/plain": [
       "                                                text  category\n",
       "0  From: lerxst@wam.umd.edu (where's my thing)\\nS...         7\n",
       "1  From: guykuo@carson.u.washington.edu (Guy Kuo)...         4\n",
       "2  From: twillis@ec.ecn.purdue.edu (Thomas E Will...         4\n",
       "3  From: jgreen@amber (Joe Green)\\nSubject: Re: W...         1\n",
       "4  From: jcm@head-cfa.harvard.edu (Jonathan McDow...        14"
      ]
     },
     "execution_count": 11,
     "metadata": {},
     "output_type": "execute_result"
    }
   ],
   "source": [
    "# Convert the dataset to a DataFrame\n",
    "df = pd.DataFrame({\n",
    "    'text': newsgroups_train.data,\n",
    "    'category': newsgroups_train.target\n",
    "})\n",
    "\n",
    "df.head()"
   ]
  },
  {
   "cell_type": "code",
   "execution_count": 12,
   "id": "2b40f1ca-0bd3-4d09-99d8-3e668848e71c",
   "metadata": {
    "tags": []
   },
   "outputs": [
    {
     "name": "stdout",
     "output_type": "stream",
     "text": [
      "\n",
      "Dataset Size: (11314, 2)\n",
      "\n",
      "Number of Categories: 20\n",
      "\n",
      "Categories: ['alt.atheism', 'comp.graphics', 'comp.os.ms-windows.misc', 'comp.sys.ibm.pc.hardware', 'comp.sys.mac.hardware', 'comp.windows.x', 'misc.forsale', 'rec.autos', 'rec.motorcycles', 'rec.sport.baseball', 'rec.sport.hockey', 'sci.crypt', 'sci.electronics', 'sci.med', 'sci.space', 'soc.religion.christian', 'talk.politics.guns', 'talk.politics.mideast', 'talk.politics.misc', 'talk.religion.misc']\n"
     ]
    }
   ],
   "source": [
    "print(\"\\nDataset Size:\", df.shape)\n",
    "print(\"\\nNumber of Categories:\", len(newsgroups_train.target_names))\n",
    "print(\"\\nCategories:\", newsgroups_train.target_names)"
   ]
  },
  {
   "cell_type": "code",
   "execution_count": 13,
   "id": "bfaa5af4-024c-4c06-964b-b16355eeee34",
   "metadata": {
    "tags": []
   },
   "outputs": [
    {
     "name": "stdout",
     "output_type": "stream",
     "text": [
      "TEXT:\n",
      "\tFrom: lerxst@wam.umd.edu (where's my thing)\n",
      "Subject: WHAT car is this!?\n",
      "Nntp-Posting-Host: rac3.wam.umd.edu\n",
      "Organization: University of Maryland, College Park\n",
      "Lines: 15\n",
      "\n",
      " I was wondering if anyone out there could enlighten me on this car I saw\n",
      "the other day. It was a 2-door sports car, looked to be from the late 60s/\n",
      "early 70s. It was called a Bricklin. The doors were really small. In addition,\n",
      "the front bumper was separate from the rest of the body. This is \n",
      "all I know. If anyone can tellme a model name, engine specs, years\n",
      "of production, where this car is made, history, or whatever info you\n",
      "have on this funky looking car, please e-mail.\n",
      "\n",
      "Thanks,\n",
      "- IL\n",
      "   ---- brought to you by your neighborhood Lerxst ----\n",
      "\n",
      "\n",
      "\n",
      "\n",
      "\n",
      "CATEGORY:\n",
      "\trec.autos\n"
     ]
    }
   ],
   "source": [
    "print(f\"TEXT:\\n\\t{df['text'][0]}\\nCATEGORY:\\n\\t{newsgroups_train.target_names[df['category'][0]]}\")"
   ]
  },
  {
   "cell_type": "markdown",
   "id": "4dd769e8-abd1-4607-bbc4-a729c5c9a3fd",
   "metadata": {},
   "source": [
    "### Preprocessing and Vectorizing Data\n",
    "\n",
    "Preprocess the text data by cleaning it and then vectorize the text using a pre-trained model from the `sentence-transformers` library. we will use the model `BAAI/bge-base-en-v1.5` for encoding the sentences into vectors."
   ]
  },
  {
   "cell_type": "code",
   "execution_count": 14,
   "id": "618f87da-d13d-4d88-a931-3da5d1958c27",
   "metadata": {
    "tags": []
   },
   "outputs": [],
   "source": [
    "model_name =  \"BAAI/bge-base-en-v1.5\"\n",
    "model = SentenceTransformer(os.path.join(os.environ['MODEL_PATH'], model_name))\n",
    "\n",
    "embedding_vectors = joblib.load('embeddings.joblib')"
   ]
  },
  {
   "cell_type": "code",
   "execution_count": 16,
   "id": "90b44d25-39eb-4179-88fb-49d5fcd48135",
   "metadata": {
    "tags": []
   },
   "outputs": [
    {
     "data": {
      "text/plain": [
       "11314"
      ]
     },
     "execution_count": 16,
     "metadata": {},
     "output_type": "execute_result"
    }
   ],
   "source": [
    "len(embedding_vectors)"
   ]
  },
  {
   "cell_type": "code",
   "execution_count": 18,
   "id": "c2aa6ff6-ada7-4531-8cc7-5d204a158c8e",
   "metadata": {
    "tags": []
   },
   "outputs": [
    {
     "data": {
      "text/plain": [
       "(768,)"
      ]
     },
     "execution_count": 18,
     "metadata": {},
     "output_type": "execute_result"
    }
   ],
   "source": [
    "embedding_vectors[0].shape"
   ]
  },
  {
   "cell_type": "markdown",
   "id": "8f750f07-db2c-4ec7-a266-4bfc0ae8d77f",
   "metadata": {},
   "source": [
    "### Functions for retrieval\n",
    "\n",
    "Implement a basic RAG mechanism by performing a similarity search over our precomputed embeddings. This code uses cosine similarity to find the most relevant documents for a given query."
   ]
  },
  {
   "cell_type": "code",
   "execution_count": 19,
   "id": "5f2dc2ab-a52c-4a1a-8a68-99bb731585c2",
   "metadata": {
    "tags": []
   },
   "outputs": [],
   "source": [
    "def preprocess_text(text):\n",
    "    \"\"\"\n",
    "    Preprocess the text data by removing leading and trailing whitespace.\n",
    "    \"\"\"\n",
    "    text = text.strip()\n",
    "    return text"
   ]
  },
  {
   "cell_type": "code",
   "execution_count": 20,
   "id": "64342f8a-17d3-4155-b908-2a46fdd1ee33",
   "metadata": {
    "tags": []
   },
   "outputs": [],
   "source": [
    "def cosine_similarity(v1, array_of_vectors):\n",
    "    \"\"\"\n",
    "    Compute the cosine similarity between a vector and an array of vectors.\n",
    "\n",
    "    Parameters:\n",
    "    v1 (array-like): The first vector.\n",
    "    array_of_vectors (array-like): An array of vectors or a single vector.\n",
    "\n",
    "    Returns:\n",
    "    list: A list of cosine similarities between v1 and each vector in array_of_vectors.\n",
    "    \"\"\"\n",
    "    v1 = np.array(v1)\n",
    "    similarities = []\n",
    "    if len(np.shape(array_of_vectors)) == 1:\n",
    "        array_of_vectors = [array_of_vectors]\n",
    "    # Iterate over each vector in the array\n",
    "    for v2 in array_of_vectors:\n",
    "        v2 = np.array(v2)\n",
    "        # Compute the dot product of v1 and v2\n",
    "        dot_product = np.dot(v1, v2)\n",
    "        # Compute the norms of the vectors\n",
    "        norm_v1 = np.linalg.norm(v1)\n",
    "        norm_v2 = np.linalg.norm(v2)\n",
    "        # Compute the cosine similarity and append to the list\n",
    "        similarity = dot_product / (norm_v1 * norm_v2)\n",
    "        similarities.append(similarity)\n",
    "    return similarities"
   ]
  },
  {
   "cell_type": "code",
   "execution_count": 21,
   "id": "a237bea6-36ff-43c6-9532-6348350bf1ef",
   "metadata": {
    "tags": []
   },
   "outputs": [],
   "source": [
    "def top_k_greatest_indices(lst, k):\n",
    "    \"\"\"\n",
    "    Get the indices of the top k greatest items in a list.\n",
    "\n",
    "    Parameters:\n",
    "    lst (list): The list of elements to evaluate.\n",
    "    k (int): The number of top elements to retrieve by index.\n",
    "\n",
    "    Returns:\n",
    "    list: A list of indices corresponding to the top k greatest elements in lst.\n",
    "    \"\"\"\n",
    "    indexed_list = list(enumerate(lst))\n",
    "    sorted_by_value = sorted(indexed_list, key=lambda x: x[1], reverse=True)\n",
    "    top_k_indices = [index for index, value in sorted_by_value[:k]]\n",
    "    return top_k_indices"
   ]
  },
  {
   "cell_type": "markdown",
   "id": "87106c2d-e8de-4d89-933b-92fde4ed838d",
   "metadata": {},
   "source": [
    "### The retriever function."
   ]
  },
  {
   "cell_type": "code",
   "execution_count": 22,
   "id": "b546830a-c47b-47a5-b91f-07b4fbc7524d",
   "metadata": {
    "tags": []
   },
   "outputs": [],
   "source": [
    "def retrieve_documents(query, embeddings, model, top_k=5):\n",
    "    \"\"\"\n",
    "    Retrieve the top-k most similar documents to a given query based on cosine similarity.\n",
    "\n",
    "    Parameters:\n",
    "    query (str): The search query for which similar documents are to be retrieved.\n",
    "    embeddings (list): A list of document embeddings against which the query is compared.\n",
    "    model (object): A model with an 'encode' method to transform the query into an embedding.\n",
    "    top_k (int, optional): The number of top documents to retrieve. Defaults to 5.\n",
    "    \"\"\"\n",
    "    query_clean = preprocess_text(query)\n",
    "    query_embedding = model.encode(query_clean, convert_to_tensor=True)\n",
    "\n",
    "    cosine_scores = []\n",
    "    for x in embeddings:\n",
    "        cosine_scores.append(cosine_similarity(query_embedding, x))\n",
    "\n",
    "    top_results = top_k_greatest_indices(cosine_scores, k=top_k)\n",
    "\n",
    "    # Display the results\n",
    "    print(f\"Query: {query}\")\n",
    "    for x in top_results:\n",
    "        print(f\"Document: {df.iloc[x]['text'][:200]}...\")\n",
    "        print(f\"Category: {newsgroups_train.target_names[df.iloc[x]['category']]}...\")\n",
    "        print(\"\\n\\n\")"
   ]
  },
  {
   "cell_type": "code",
   "execution_count": 24,
   "id": "ed88eb4a-72fb-4d1d-9171-bf51bb490506",
   "metadata": {
    "tags": []
   },
   "outputs": [
    {
     "name": "stdout",
     "output_type": "stream",
     "text": [
      "Query: space exploration\n",
      "Document: From: u1452@penelope.sdsc.edu (Jeff Bytof - SIO)\n",
      "Subject: End of the Space Age?\n",
      "Organization: San Diego Supercomputer Center @ UCSD\n",
      "Lines: 16\n",
      "Distribution: world\n",
      "NNTP-Posting-Host: penelope.sdsc.edu\n",
      "\n",
      "...\n",
      "Category: sci.space...\n",
      "\n",
      "\n",
      "\n",
      "Document: From: dennisn@ecs.comm.mot.com (Dennis Newkirk)\n",
      "Subject: Space class for teachers near Chicago\n",
      "Organization: Motorola\n",
      "Distribution: usa\n",
      "Nntp-Posting-Host: 145.1.146.43\n",
      "Lines: 59\n",
      "\n",
      "I am posting this for...\n",
      "Category: sci.space...\n",
      "\n",
      "\n",
      "\n",
      "Document: From: Wales.Larrison@ofa123.fidonet.org\n",
      "Subject: Commercial Space News #22\n",
      "X-Sender: newtout 0.08 Feb 23 1993\n",
      "Lines: 666\n",
      "\n",
      "COMMERCIAL SPACE NEWS/SPACE TECHNOLOGY INVESTOR NUMBER 22\n",
      "\n",
      "   This is number t...\n",
      "Category: sci.space...\n",
      "\n",
      "\n",
      "\n"
     ]
    }
   ],
   "source": [
    "example_query = \"space exploration\"\n",
    "retrieve_documents(example_query, embedding_vectors, model, top_k = 3)"
   ]
  },
  {
   "cell_type": "code",
   "execution_count": null,
   "id": "f30a4f49-68e3-48e6-96d7-449354e1013b",
   "metadata": {},
   "outputs": [],
   "source": []
  },
  {
   "cell_type": "markdown",
   "id": "a0146f10-fd24-4cf4-8077-a0c9599b3248",
   "metadata": {},
   "source": [
    "## Retrieving metrics\n",
    "\n",
    "### Precision\n",
    "\n",
    "Relevancy of the retrieved documents. \n",
    "\n",
    "$$\\text{Precision} = \\frac{\\text{True Positives (TP)}}{\\text{True Positives (TP)} + \\text{False Positives (FP)}}$$\n",
    "\n"
   ]
  },
  {
   "cell_type": "code",
   "execution_count": 26,
   "id": "41d93434-8d66-46ff-85bc-5fd4f86a756e",
   "metadata": {
    "tags": []
   },
   "outputs": [],
   "source": [
    "def precision(tp, tn, fp, fn):\n",
    "    \"\"\"\n",
    "    Calculate the precision of a binary classification model.\n",
    "    \"\"\"\n",
    "    if tp < 0 or tn < 0 or fp < 0 or fn < 0:\n",
    "        raise ValueError(\"All input values must be non-negative.\")\n",
    "    \n",
    "    if tp + fp == 0:\n",
    "        return 0.0\n",
    "\n",
    "    return tp / (tp + fp)"
   ]
  },
  {
   "cell_type": "markdown",
   "id": "3b18b637-a290-45ca-8d00-15084a246a98",
   "metadata": {},
   "source": [
    "### Recall\n",
    "\n",
    "Model's ability to retrieve all relevant documents from the dataset.\n",
    "\n",
    "$$\\text{Recall} = \\frac{\\text{True Positives (TP)}}{\\text{True Positives (TP)} + \\text{False Negatives (FN)}}$$"
   ]
  },
  {
   "cell_type": "code",
   "execution_count": 27,
   "id": "67291b40-1dd0-46f9-8f50-bad24a0de6f6",
   "metadata": {
    "tags": []
   },
   "outputs": [],
   "source": [
    "def recall(tp, tn, fp, fn):\n",
    "    \"\"\"\n",
    "    Calculate the recall (sensitivity) of a binary classification model.\n",
    "    \"\"\"\n",
    "    if tp < 0 or tn < 0 or fp < 0 or fn < 0:\n",
    "        raise ValueError(\"All input values must be non-negative.\")\n",
    "\n",
    "    if tp + fn == 0:\n",
    "        return 0.0\n",
    "\n",
    "    return tp / (tp + fn)"
   ]
  },
  {
   "cell_type": "markdown",
   "id": "8d0e07f2-d5e2-4abf-a5f6-4f115fe7be91",
   "metadata": {},
   "source": [
    "### Computing metrics over some queries"
   ]
  },
  {
   "cell_type": "code",
   "execution_count": 28,
   "id": "9e204fdb-fbd2-4478-b3e7-a6055797104b",
   "metadata": {
    "tags": []
   },
   "outputs": [],
   "source": [
    "# test queries with their corresponding desired categories\n",
    "\n",
    "test_queries = [\n",
    "    {\"query\": \"advancements in space exploration technology\", \"desired_category\": \"sci.space\"},\n",
    "    {\"query\": \"real-time rendering techniques in computer graphics\", \"desired_category\": \"comp.graphics\"},\n",
    "    {\"query\": \"latest findings in cardiovascular medical research\", \"desired_category\": \"sci.med\"},\n",
    "    {\"query\": \"NHL playoffs and team performance statistics\", \"desired_category\": \"rec.sport.hockey\"},\n",
    "    {\"query\": \"impacts of cryptography in online security\", \"desired_category\": \"sci.crypt\"},\n",
    "    {\"query\": \"the role of electronics in modern computing devices\", \"desired_category\": \"sci.electronics\"},\n",
    "    {\"query\": \"motorcycles maintenance tips for enthusiasts\", \"desired_category\": \"rec.motorcycles\"},\n",
    "    {\"query\": \"high-performance baseball tactics for championships\", \"desired_category\": \"rec.sport.baseball\"},\n",
    "    {\"query\": \"historical influence of politics on society\", \"desired_category\": \"talk.politics.misc\"},\n",
    "    {\"query\": \"latest technology trends in the Windows operating system\", \"desired_category\": \"comp.os.ms-windows.misc\"}\n",
    "    \n",
    "]"
   ]
  },
  {
   "cell_type": "code",
   "execution_count": 29,
   "id": "ab07ae82-e652-4eea-8bc4-55a9b481a782",
   "metadata": {
    "tags": []
   },
   "outputs": [],
   "source": [
    "def compute_metrics(queries, embeddings, model, top_k=5):\n",
    "    \"\"\"\n",
    "    Compute precision and recall metrics for a list of queries against a dataset of document embeddings.\n",
    "\n",
    "    Parameters:\n",
    "    queries (list): A list of dictionaries, each containing a \"query\" and a \"desired_category\".\n",
    "    embeddings (list): A list of document embeddings to which queries will be compared.\n",
    "    model (object): A model with an 'encode' method to transform queries into embeddings.\n",
    "    top_k (int, optional): The number of top documents to consider for each query. Defaults to 5.\n",
    "\n",
    "    Returns:\n",
    "    list: A list of dictionaries, each containing the query, its precision, and recall.\n",
    "    \"\"\"\n",
    "    \n",
    "    results = []\n",
    "\n",
    "    for item in queries:\n",
    "        query = item[\"query\"]\n",
    "        desired_category = item[\"desired_category\"]\n",
    "\n",
    "        query_clean = preprocess_text(query)\n",
    "        query_embedding = model.encode(query_clean, convert_to_tensor=True)\n",
    "\n",
    "        # Compute cosine similarities with the dataset embeddings\n",
    "        cosine_scores = []\n",
    "        for x in embedding_vectors:\n",
    "            cosine_scores.append(cosine_similarity(query_embedding, x))\n",
    "\n",
    "        # Retrieve top-k documents based on cosine similarity\n",
    "        top_results = top_k_greatest_indices(cosine_scores, k=top_k)\n",
    "\n",
    "        # Check the categories of the retrieved documents\n",
    "        retrieved_categories = [\n",
    "            newsgroups_train.target_names[df.iloc[idx][\"category\"]] for idx in top_results\n",
    "        ]\n",
    "        \n",
    "        # Calculate true positives and false positives\n",
    "        true_positives = sum(1 for cat in retrieved_categories if cat == desired_category)\n",
    "        false_positives = top_k - true_positives\n",
    "        # Assume all other relevant documents in this context are false negatives\n",
    "        false_negatives = sum(\n",
    "            newsgroups_train.target_names[df.iloc[idx][\"category\"]] == desired_category \n",
    "            for idx in top_results\n",
    "        ) - true_positives\n",
    "        # TN (True Negatives) is generally not well-defined in this informational retrieval context\n",
    "        true_negatives = 0\n",
    "\n",
    "        # Calculate precision and recall using defined functions\n",
    "        p = precision(true_positives, true_negatives, false_positives, false_negatives)\n",
    "        r = recall(true_positives, true_negatives, false_positives, false_negatives)\n",
    "\n",
    "        # Append the results to the list\n",
    "        results.append({\n",
    "            \"query\": query,\n",
    "            \"precision\": p,\n",
    "            \"recall\": r,\n",
    "        })\n",
    "\n",
    "    return results"
   ]
  },
  {
   "cell_type": "code",
   "execution_count": 30,
   "id": "72286c2d-e343-4cdb-8881-54b2e1be7c56",
   "metadata": {
    "tags": []
   },
   "outputs": [
    {
     "name": "stdout",
     "output_type": "stream",
     "text": [
      "Results:\n",
      "Query: advancements in space exploration technology, Precision: 1.00, Recall: 1.00\n",
      "Query: real-time rendering techniques in computer graphics, Precision: 1.00, Recall: 1.00\n",
      "Query: latest findings in cardiovascular medical research, Precision: 1.00, Recall: 1.00\n",
      "Query: NHL playoffs and team performance statistics, Precision: 1.00, Recall: 1.00\n",
      "Query: impacts of cryptography in online security, Precision: 1.00, Recall: 1.00\n",
      "Query: the role of electronics in modern computing devices, Precision: 1.00, Recall: 1.00\n",
      "Query: motorcycles maintenance tips for enthusiasts, Precision: 1.00, Recall: 1.00\n",
      "Query: high-performance baseball tactics for championships, Precision: 1.00, Recall: 1.00\n",
      "Query: historical influence of politics on society, Precision: 0.40, Recall: 1.00\n",
      "Query: latest technology trends in the Windows operating system, Precision: 0.80, Recall: 1.00\n"
     ]
    }
   ],
   "source": [
    "results = compute_metrics(test_queries, embedding_vectors, model)\n",
    "\n",
    "print(\"Results:\")\n",
    "for result in results:\n",
    "    print(f\"Query: {result['query']}, Precision: {result['precision']:.2f}, Recall: {result['recall']:.2f}\")"
   ]
  },
  {
   "cell_type": "code",
   "execution_count": null,
   "id": "4f86b52c-0a20-4cd6-b580-7c5a58331d61",
   "metadata": {},
   "outputs": [],
   "source": []
  },
  {
   "cell_type": "markdown",
   "id": "45998ce3-e314-4a4a-ac54-97f57812f7a8",
   "metadata": {},
   "source": [
    "For every query, the **recall** is consistently 1. This means that all relevant documents are retrieved for each query. For example, in the first query, \"advancements in space exploration technology,\" every document related to the category _sci.space_ is included. In some instances, like with the query \"historical influence of politics on society,\" the **precision** is less than 1. With a precision of 0.4, this indicates that only 40% of the retrieved documents are relevant to the query. Nonetheless, because the **recall** is 1, it confirms that all relevant documents are among those retrieved."
   ]
  },
  {
   "cell_type": "code",
   "execution_count": null,
   "id": "67cfcb0c-02d1-4e1d-8235-c334bc67719f",
   "metadata": {},
   "outputs": [],
   "source": []
  }
 ],
 "metadata": {
  "kernelspec": {
   "display_name": "Python 3 (ipykernel)",
   "language": "python",
   "name": "python3"
  },
  "language_info": {
   "codemirror_mode": {
    "name": "ipython",
    "version": 3
   },
   "file_extension": ".py",
   "mimetype": "text/x-python",
   "name": "python",
   "nbconvert_exporter": "python",
   "pygments_lexer": "ipython3",
   "version": "3.12.11"
  }
 },
 "nbformat": 4,
 "nbformat_minor": 5
}
